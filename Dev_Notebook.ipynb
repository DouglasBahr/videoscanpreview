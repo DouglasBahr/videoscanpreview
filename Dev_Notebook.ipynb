{
 "cells": [
  {
   "cell_type": "code",
   "execution_count": 3,
   "metadata": {},
   "outputs": [],
   "source": [
    "import numpy as np\n",
    "import cv2 as cv\n"
   ]
  },
  {
   "cell_type": "code",
   "execution_count": null,
   "metadata": {},
   "outputs": [],
   "source": []
  },
  {
   "cell_type": "code",
   "execution_count": null,
   "metadata": {},
   "outputs": [],
   "source": []
  },
  {
   "cell_type": "code",
   "execution_count": 35,
   "metadata": {},
   "outputs": [],
   "source": [
    "import queue\n",
    "import time\n",
    "def play_video(frames,time = 10, loops = 1):\n",
    "    for loop in range(loops):\n",
    "        for frame in frames:\n",
    "            cv.imshow('frame', frame) # show frame on window\n",
    "            if cv.waitKey(time) & 0xFF == ord('q'):\n",
    "                cv.destroyAllWindows()\n",
    "                break\n",
    "    cv.destroyAllWindows()\n",
    "\n",
    "def video_properties(path, override=False):\n",
    "    video = cv.VideoCapture(path)\n",
    "    total_frames = int(video.get(cv.CAP_PROP_FRAME_COUNT))\n",
    "    width  = int(video.get(3))\n",
    "    height = int(video.get(4))\n",
    "    fps = int(video.get(5))\n",
    "    video.release()\n",
    "    return total_frames,width,height,fps\n",
    "\n",
    "def frames_to_memory(path, width = None, height = None, start_frame = 0, last_frame = 0, thread_number = 0, q=None):\n",
    "    if last_frame == 0:\n",
    "        raise Exception(\"Needs a last frame\")\n",
    "    frames = []\n",
    "    cap = cv.VideoCapture(path) #video_name is the video being called\n",
    "    for index in range(start_frame, last_frame,5):\n",
    "        cap.set(1,index); # Where frame_no is the frame you want\n",
    "        ret, frame = cap.read() # Read the frame\n",
    "        \n",
    "        if not ((width == None) or (height == None)):\n",
    "            frame = cv.resize(frame, (width, height), interpolation = cv.INTER_AREA)\n",
    "        frames.append(frame)\n",
    "        \n",
    "        if round((index-start_frame)/(last_frame-start_frame),2)%.2 == 0:\n",
    "            #print(index)\n",
    "            pass\n",
    "    cap.release()\n",
    "    if q != None:\n",
    "        print(\"Finished!\")\n",
    "        while que.qsize()<thread_number:\n",
    "            time.sleep(.1)\n",
    "        q.put(frames)\n",
    "    return frames\n",
    "\n",
    "def create_bucket(frames, total_frames, fps, time = 2):\n",
    "    time = 2\n",
    "    frame_per_bucket = int(time*fps)\n",
    "    total_buckets =total_frames //frame_per_bucket\n",
    "    remainder_frame = total_frames - frame_per_bucket*total_buckets\n",
    "    remainder_frame\n",
    "    frame_bucket = []\n",
    "    for index in range(0, total_buckets):\n",
    "        print('start: ', index*frame_per_bucket, \" finish: ,\", (index+1)*frame_per_bucket )\n",
    "        frame_bucket.append(frames[index*frame_per_bucket:(index+1)*frame_per_bucket])\n",
    "\n",
    "    return frame_bucket\n",
    "\n",
    "def show_single_frame(frames, index = None, time = 1):\n",
    "    if not index:\n",
    "        try:\n",
    "            cv.imshow('frame', frames) # show frame on window\n",
    "        except:\n",
    "            print(\"fuck\")\n",
    "    else:\n",
    "        cv.imshow('frame', frames[index]) # show frame on window\n",
    "    if cv.waitKey(time) & 0xFF == ord('q'):\n",
    "        cv.destroyAllWindows()\n",
    "    cv.destroyAllWindows()\n",
    "\n",
    "    \n",
    "def create_row(bucket):\n",
    "    number_of_frames = len(bucket[0])\n",
    "    buckets_in_row = len(bucket)\n",
    "    \n",
    "    row_frames = []\n",
    "    for frame_index in range(number_of_frames):\n",
    "        \n",
    "        bucket_frames = []\n",
    "        for index in range(buckets_in_row):\n",
    "            bucket_frames.append(bucket[index][frame_index])\n",
    "\n",
    "        row_frames.append(np.concatenate(bucket_frames, axis = 1))\n",
    "    return row_frames\n",
    "    \n",
    "    \n",
    "def create_all_rows(bucket):\n",
    "    all_rows = []\n",
    "    for i in range(4):\n",
    "        all_rows.append(create_row(bucket[i*4: (i+1)*4]))\n",
    "        #print(i*4, \" \", (i+1)*4)\n",
    "    return all_rows\n",
    "    \n",
    "def combine_all_rows(rows):\n",
    "    number_of_frames = len(rows[0])\n",
    "    number_of_rows = len(rows)\n",
    "    \n",
    "    full_frame = []\n",
    "    for frame_index in range(number_of_frames):\n",
    "        \n",
    "        frame_images = []\n",
    "        for index in range(number_of_rows):\n",
    "            frame_images.append(rows[index][frame_index])\n",
    "           \n",
    "        full_frame.append(np.concatenate(frame_images, axis = 0))\n",
    "        \n",
    "    return full_frame\n",
    "\n",
    "def create_full_frame(bucket):\n",
    "    all_rows = create_all_rows(bucket)\n",
    "    full_frame = combine_all_rows(all_rows)\n",
    "        \n",
    "    return full_frame\n",
    "\n",
    "def video_length(frame_bucket, bucket_switch = 1):\n",
    "    full_frames = create_full_frame(frame_bucket)\n",
    "    for i in range(bucket_switch):\n",
    "        frame_bucket =  frame_bucket[1:] + [frame_bucket[0]]\n",
    "        full_frames += create_full_frame(frame_bucket)\n",
    "    return full_frames\n",
    "\n",
    "VIDEO_PATH = 'sample_data/CasaBlanca.mp4'\n"
   ]
  },
  {
   "cell_type": "code",
   "execution_count": 36,
   "metadata": {},
   "outputs": [
    {
     "data": {
      "text/plain": [
       "147625"
      ]
     },
     "execution_count": 36,
     "metadata": {},
     "output_type": "execute_result"
    }
   ],
   "source": [
    "total_frames,width,height,fps = video_properties(VIDEO_PATH)\n",
    "total_frames"
   ]
  },
  {
   "cell_type": "code",
   "execution_count": null,
   "metadata": {
    "scrolled": true
   },
   "outputs": [
    {
     "name": "stdout",
     "output_type": "stream",
     "text": [
      "1 18453\n",
      "Thread 0 started!\n",
      "18454 36906\n",
      "Thread 1 started!\n",
      "36907 55359\n",
      "Thread 2 started!\n",
      "55360 73812\n",
      "Thread 3 started!\n",
      "73813 92265\n",
      "Thread 4 started!\n",
      "92266 110718\n",
      "Thread 5 started!\n",
      "110719 129171\n",
      "Thread 6 started!\n",
      "129172 147624\n",
      "Thread 7 started!\n"
     ]
    },
    {
     "name": "stderr",
     "output_type": "stream",
     "text": [
      "Exception in thread Thread-13:\n",
      "Traceback (most recent call last):\n",
      "  File \"c:\\program files (x86)\\python38-32\\lib\\threading.py\", line 932, in _bootstrap_inner\n",
      "    self.run()\n",
      "  File \"c:\\program files (x86)\\python38-32\\lib\\threading.py\", line 870, in run\n",
      "    self._target(*self._args, **self._kwargs)\n",
      "  File \"<ipython-input-35-d66c297dcfd2>\", line 28, in frames_to_memory\n",
      "cv2.error: OpenCV(4.4.0) C:\\Users\\appveyor\\AppData\\Local\\Temp\\1\\pip-req-build-2y91i_7w\\opencv\\modules\\core\\src\\alloc.cpp:73: error: (-4:Insufficient memory) Failed to allocate 4733952 bytes in function 'cv::OutOfMemoryError'\n",
      "\n",
      "Exception in thread Thread-7:\n",
      "Traceback (most recent call last):\n",
      "  File \"c:\\program files (x86)\\python38-32\\lib\\threading.py\", line 932, in _bootstrap_inner\n",
      "    self.run()\n",
      "  File \"c:\\program files (x86)\\python38-32\\lib\\threading.py\", line 870, in run\n",
      "    self._target(*self._args, **self._kwargs)\n",
      "  File \"<ipython-input-35-d66c297dcfd2>\", line 31, in frames_to_memory\n",
      "cv2.error: OpenCV(4.4.0) C:\\Users\\appveyor\\AppData\\Local\\Temp\\1\\pip-req-build-2y91i_7w\\opencv\\modules\\imgproc\\src\\resize.cpp:3929: error: (-215:Assertion failed) !ssize.empty() in function 'cv::resize'\n",
      "\n",
      "Exception in thread Thread-9:\n",
      "Traceback (most recent call last):\n",
      "  File \"c:\\program files (x86)\\python38-32\\lib\\threading.py\", line 932, in _bootstrap_inner\n",
      "    self.run()\n",
      "  File \"c:\\program files (x86)\\python38-32\\lib\\threading.py\", line 870, in run\n",
      "    self._target(*self._args, **self._kwargs)\n",
      "  File \"<ipython-input-35-d66c297dcfd2>\", line 28, in frames_to_memory\n",
      "cv2.error: OpenCV(4.4.0) C:\\Users\\appveyor\\AppData\\Local\\Temp\\1\\pip-req-build-2y91i_7w\\opencv\\modules\\core\\src\\alloc.cpp:73: error: (-4:Insufficient memory) Failed to allocate 4733952 bytes in function 'cv::OutOfMemoryError'\n",
      "\n"
     ]
    }
   ],
   "source": [
    "from threading import Thread\n",
    "import queue\n",
    "import time\n",
    "now = time.time()\n",
    "que = queue.Queue()\n",
    "number_of_threads = 8\n",
    "frames_for_thread = int(total_frames/number_of_threads//1)\n",
    "bucket = []\n",
    "for i in range(number_of_threads):\n",
    "    bucket.append((i*frames_for_thread+1,(i+1)*frames_for_thread))\n",
    "bucket\n",
    "\n",
    "thread_holder = []\n",
    "for i in range(number_of_threads):\n",
    "    start, end = bucket[i]\n",
    "    thread_results = []\n",
    "    print(start, end)\n",
    "    \n",
    "    t =Thread(target=frames_to_memory, \n",
    "                        args=(VIDEO_PATH,int(width/3),int(height/3),),\n",
    "                        kwargs={\"start_frame\" : start, \"last_frame\" : end, \"thread_number\" : i,\"q\" : que})\n",
    "    thread_holder.append(t)\n",
    "    print(f\"Thread {i} started!\")\n",
    "    t.start()\n",
    "for t in thread_holder:\n",
    "    t.join()\n",
    "frames = []\n",
    "while not que.empty():\n",
    "    result = que.get()\n",
    "    frames += result\n",
    "    print(\"got frames!\")\n",
    "    \n",
    "print(time.time()-now)"
   ]
  },
  {
   "cell_type": "code",
   "execution_count": null,
   "metadata": {},
   "outputs": [],
   "source": [
    "que.q"
   ]
  },
  {
   "cell_type": "code",
   "execution_count": 8,
   "metadata": {
    "scrolled": true
   },
   "outputs": [
    {
     "name": "stdout",
     "output_type": "stream",
     "text": [
      "45.195149183273315\n"
     ]
    }
   ],
   "source": [
    "import time \n",
    "now = time.time()\n",
    "frames = frames_to_memory(VIDEO_PATH,int(width/3),int(height/3), start_frame = 0, last_frame = int(total_frames/500))\n",
    "print(time.time()-now)"
   ]
  },
  {
   "cell_type": "code",
   "execution_count": 32,
   "metadata": {},
   "outputs": [
    {
     "name": "stdout",
     "output_type": "stream",
     "text": [
      "147 MB for 295 frames\n",
      "0.4983M per 1 frame\n"
     ]
    }
   ],
   "source": [
    "from hurry.filesize import size,alternative\n",
    "from sys import getsizeof\n",
    "size(10, system =alternative)\n",
    "total_size = len(frames) * getsizeof(frames[1])\n",
    "print(f\"{size(total_size, system =alternative)} for {int(total_frames/500)} frames\")\n",
    "print(f\"{str(round(int(size(total_size)[:-1])/int(total_frames/500),4))+size(total_size)[-1]} per 1 frame\")"
   ]
  },
  {
   "cell_type": "code",
   "execution_count": 34,
   "metadata": {},
   "outputs": [
    {
     "data": {
      "text/plain": [
       "72.15298142717498"
      ]
     },
     "execution_count": 34,
     "metadata": {},
     "output_type": "execute_result"
    }
   ],
   "source": [
    "total_frames/2/102"
   ]
  },
  {
   "cell_type": "code",
   "execution_count": 38,
   "metadata": {
    "scrolled": true
   },
   "outputs": [
    {
     "name": "stdout",
     "output_type": "stream",
     "text": [
      "start:  0  finish: , 46\n",
      "start:  46  finish: , 92\n",
      "start:  92  finish: , 138\n",
      "start:  138  finish: , 184\n",
      "start:  184  finish: , 230\n",
      "start:  230  finish: , 276\n",
      "start:  276  finish: , 322\n",
      "start:  322  finish: , 368\n",
      "start:  368  finish: , 414\n",
      "start:  414  finish: , 460\n",
      "start:  460  finish: , 506\n",
      "start:  506  finish: , 552\n",
      "start:  552  finish: , 598\n",
      "start:  598  finish: , 644\n",
      "start:  644  finish: , 690\n",
      "start:  690  finish: , 736\n"
     ]
    }
   ],
   "source": [
    "time = 2\n",
    "frame_bucket = create_bucket(frames, total_frames, fps, time =time)\n",
    "frame_bucket_copy = frame_bucket.copy()\n",
    "full = video_length(frame_bucket_copy, bucket_switch = 0)\n",
    "play_video(full, time = 1000//fps, loops = 4)"
   ]
  },
  {
   "cell_type": "code",
   "execution_count": null,
   "metadata": {},
   "outputs": [],
   "source": [
    "# this is the shifting cell\n",
    "fuller = []\n",
    "fuller.append(fuller.append(full[0][:]))\n",
    "del fuller[1]\n",
    "print('0:\\n',full[0][:].shape)\n",
    "frame_in_bucket = 46\n",
    "for frame_index in range(1,len(full)):\n",
    "    frame_reset = frame_index%frame_in_bucket\n",
    "    \n",
    "    pixel_shift = int((frame_reset*(width/3/frame_in_bucket))//1)\n",
    "    added_frame = full[frame_reset][:,int(width/3)-pixel_shift:int(width/3),: ]\n",
    "    major_frame = full[frame_reset][:,:-pixel_shift: ]\n",
    "    shift_image = np.concatenate([added_frame,major_frame], axis=1)\n",
    "    fuller.append(shift_image)\n",
    "\n",
    "play_video(fuller, time = 1000//fps, loops = 5)\n"
   ]
  },
  {
   "cell_type": "code",
   "execution_count": null,
   "metadata": {},
   "outputs": [],
   "source": []
  }
 ],
 "metadata": {
  "kernelspec": {
   "display_name": "Python 3",
   "language": "python",
   "name": "python3"
  },
  "language_info": {
   "codemirror_mode": {
    "name": "ipython",
    "version": 3
   },
   "file_extension": ".py",
   "mimetype": "text/x-python",
   "name": "python",
   "nbconvert_exporter": "python",
   "pygments_lexer": "ipython3",
   "version": "3.8.3"
  }
 },
 "nbformat": 4,
 "nbformat_minor": 4
}
