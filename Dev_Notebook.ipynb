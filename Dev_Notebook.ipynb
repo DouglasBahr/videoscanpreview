{
 "cells": [
  {
   "cell_type": "code",
   "execution_count": 1,
   "metadata": {},
   "outputs": [],
   "source": [
    "import numpy as np\n",
    "import cv2 as cv\n",
    "VIDEO_PATH = 'sample_data/sample.avi'\n"
   ]
  },
  {
   "cell_type": "code",
   "execution_count": null,
   "metadata": {},
   "outputs": [],
   "source": []
  },
  {
   "cell_type": "code",
   "execution_count": null,
   "metadata": {},
   "outputs": [],
   "source": []
  },
  {
   "cell_type": "code",
   "execution_count": 2,
   "metadata": {},
   "outputs": [],
   "source": [
    "def play_video(frames,time = 10, loops = 1):\n",
    "    for loop in range(loops):\n",
    "        for frame in frames: \n",
    "            cv.imshow('frame', frame) # show frame on window\n",
    "            if cv.waitKey(time) & 0xFF == ord('q'):\n",
    "                cv.destroyAllWindows()\n",
    "    cv.destroyAllWindows()\n",
    "\n",
    "def video_properties(path, override=False):\n",
    "    video = cv.VideoCapture(path)\n",
    "    total_frames = int(video.get(cv.CAP_PROP_FRAME_COUNT))\n",
    "    width  = int(video.get(3))\n",
    "    height = int(video.get(4))\n",
    "    fps = int(video.get(5))\n",
    "    video.release()\n",
    "    return total_frames,width,height,fps\n",
    "\n",
    "def frames_to_memory(path, width = None, height = None, total_frames = 1):\n",
    "    frames = []\n",
    "    cap = cv.VideoCapture(path) #video_name is the video being called\n",
    "    for index in range(total_frames):\n",
    "        cap.set(1,index); # Where frame_no is the frame you want\n",
    "        ret, frame = cap.read() # Read the frame\n",
    "        \n",
    "        if not ((width == None) or (height == None)):\n",
    "            frame = cv.resize(frame, (width, height), interpolation = cv.INTER_AREA)\n",
    "        frames.append(frame)\n",
    "    cap.release()\n",
    "    return frames\n",
    "\n",
    "def show_single_frame(frames, index = None, time = 1):\n",
    "    if not index:\n",
    "        try:\n",
    "            cv.imshow('frame', frames) # show frame on window\n",
    "        except:\n",
    "            print(\"fuck\")\n",
    "    else:\n",
    "        cv.imshow('frame', frames[index]) # show frame on window\n",
    "    if cv.waitKey(time) & 0xFF == ord('q'):\n",
    "        cv.destroyAllWindows()\n",
    "    cv.destroyAllWindows()\n",
    "\n",
    "    \n",
    "def create_row(bucket):\n",
    "    number_of_frames = len(bucket[0])\n",
    "    buckets_in_row = len(bucket)\n",
    "    \n",
    "    row_frames = []\n",
    "    for frame_index in range(number_of_frames):\n",
    "        \n",
    "        bucket_frames = []\n",
    "        for index in range(buckets_in_row):\n",
    "            bucket_frames.append(bucket[index][frame_index])\n",
    "\n",
    "        row_frames.append(np.concatenate(bucket_frames, axis = 1))\n",
    "    return row_frames\n",
    "    \n",
    "    \n",
    "def create_all_rows(bucket):\n",
    "    all_rows = []\n",
    "    for i in range(4):\n",
    "        all_rows.append(create_row(frame_bucket[i*4: (i+1)*4]))\n",
    "        #print(i*4, \" \", (i+1)*4)\n",
    "    return all_rows\n",
    "    \n",
    "def combine_all_rows(rows):\n",
    "    number_of_frames = len(rows[0])\n",
    "    number_of_rows = len(rows)\n",
    "    \n",
    "    full_frame = []\n",
    "    for frame_index in range(number_of_frames):\n",
    "        \n",
    "        frame_images = []\n",
    "        for index in range(number_of_rows):\n",
    "            frame_images.append(rows[index][frame_index])\n",
    "           \n",
    "        full_frame.append(np.concatenate(frame_images, axis = 0))\n",
    "        \n",
    "    return full_frame\n",
    "\n",
    "def create_full_frame(bucket):\n",
    "    all_rows = create_all_rows(bucket)\n",
    "    full_frame = combine_all_rows(all_rows)\n",
    "        \n",
    "    return full_frame\n",
    "\n",
    "\n",
    "VIDEO_PATH = 'sample_data/SUCCESS.AVI'"
   ]
  },
  {
   "cell_type": "code",
   "execution_count": 3,
   "metadata": {},
   "outputs": [],
   "source": [
    "total_frames,width,height,fps = video_properties(VIDEO_PATH)\n",
    "frames = frames_to_memory(VIDEO_PATH,int(width/3),int(height/3), total_frames = total_frames)"
   ]
  },
  {
   "cell_type": "code",
   "execution_count": 4,
   "metadata": {
    "scrolled": true
   },
   "outputs": [
    {
     "name": "stdout",
     "output_type": "stream",
     "text": [
      "start:  0  finish: , 1\n",
      "start:  1  finish: , 2\n",
      "start:  2  finish: , 3\n",
      "start:  3  finish: , 4\n",
      "start:  4  finish: , 5\n",
      "start:  5  finish: , 6\n",
      "start:  6  finish: , 7\n",
      "start:  7  finish: , 8\n",
      "start:  8  finish: , 9\n",
      "start:  9  finish: , 10\n",
      "start:  10  finish: , 11\n",
      "start:  11  finish: , 12\n",
      "start:  12  finish: , 13\n",
      "start:  13  finish: , 14\n",
      "start:  14  finish: , 15\n",
      "start:  15  finish: , 16\n",
      "start:  16  finish: , 17\n",
      "start:  17  finish: , 18\n",
      "start:  18  finish: , 19\n",
      "start:  19  finish: , 20\n",
      "start:  20  finish: , 21\n",
      "start:  21  finish: , 22\n",
      "start:  22  finish: , 23\n",
      "start:  23  finish: , 24\n",
      "start:  24  finish: , 25\n",
      "start:  25  finish: , 26\n",
      "start:  26  finish: , 27\n",
      "start:  27  finish: , 28\n",
      "start:  28  finish: , 29\n",
      "start:  29  finish: , 30\n",
      "start:  30  finish: , 31\n",
      "start:  31  finish: , 32\n",
      "start:  32  finish: , 33\n",
      "start:  33  finish: , 34\n",
      "start:  34  finish: , 35\n",
      "start:  35  finish: , 36\n",
      "start:  36  finish: , 37\n",
      "start:  37  finish: , 38\n",
      "start:  38  finish: , 39\n",
      "start:  39  finish: , 40\n",
      "start:  40  finish: , 41\n",
      "start:  41  finish: , 42\n",
      "start:  42  finish: , 43\n",
      "start:  43  finish: , 44\n",
      "start:  44  finish: , 45\n",
      "start:  45  finish: , 46\n",
      "start:  46  finish: , 47\n",
      "start:  47  finish: , 48\n",
      "start:  48  finish: , 49\n",
      "start:  49  finish: , 50\n",
      "start:  50  finish: , 51\n",
      "start:  51  finish: , 52\n",
      "start:  52  finish: , 53\n",
      "start:  53  finish: , 54\n",
      "start:  54  finish: , 55\n",
      "start:  55  finish: , 56\n",
      "start:  56  finish: , 57\n",
      "start:  57  finish: , 58\n",
      "start:  58  finish: , 59\n",
      "start:  59  finish: , 60\n",
      "start:  60  finish: , 61\n",
      "start:  61  finish: , 62\n",
      "start:  62  finish: , 63\n",
      "start:  63  finish: , 64\n",
      "start:  64  finish: , 65\n",
      "start:  65  finish: , 66\n",
      "start:  66  finish: , 67\n",
      "start:  67  finish: , 68\n"
     ]
    }
   ],
   "source": [
    "time = .1 \n",
    "frame_per_bucket = int(time*fps)\n",
    "total_buckets =total_frames //frame_per_bucket\n",
    "remainder_frame = total_frames - frame_per_bucket*total_buckets\n",
    "remainder_frame\n",
    "frame_bucket = []\n",
    "for index in range(0, total_buckets):\n",
    "    print('start: ', index*frame_per_bucket, \" finish: ,\", (index+1)*frame_per_bucket )\n",
    "    frame_bucket.append(frames[index*frame_per_bucket:(index+1)*frame_per_bucket])\n",
    "    \n",
    "len(frame_bucket)\n",
    "play_video(frame_bucket[1], time = 10)\n",
    "\n",
    "test = frame_bucket[1].copy()"
   ]
  },
  {
   "cell_type": "code",
   "execution_count": 5,
   "metadata": {},
   "outputs": [],
   "source": [
    "frame_bucket_copy = frame_bucket.copy()"
   ]
  },
  {
   "cell_type": "code",
   "execution_count": 6,
   "metadata": {},
   "outputs": [],
   "source": [
    "full = create_full_frame(frame_bucket)\n",
    "play_video(full, time = 1000//fps, loops = 1)\n",
    "frame_bucket_copy = frame_bucket.copy()"
   ]
  },
  {
   "cell_type": "code",
   "execution_count": 7,
   "metadata": {},
   "outputs": [],
   "source": [
    "fullest = create_full_frame(frame_bucket_copy)\n",
    "for i in range(3):\n",
    "\n",
    "    frame_bucket_copy =  frame_bucket_copy[1:] + [frame_bucket_copy[0]]\n",
    "    fullest += create_full_frame(frame_bucket_copy)\n",
    "play_video(fullest, time = 1000//fps, loops = 1)"
   ]
  },
  {
   "cell_type": "code",
   "execution_count": 8,
   "metadata": {},
   "outputs": [
    {
     "ename": "ValueError",
     "evalue": "The truth value of an array with more than one element is ambiguous. Use a.any() or a.all()",
     "output_type": "error",
     "traceback": [
      "\u001b[1;31m---------------------------------------------------------------------------\u001b[0m",
      "\u001b[1;31mValueError\u001b[0m                                Traceback (most recent call last)",
      "\u001b[1;32m<ipython-input-8-019d2fece681>\u001b[0m in \u001b[0;36m<module>\u001b[1;34m\u001b[0m\n\u001b[0;32m      1\u001b[0m \u001b[0mlove\u001b[0m \u001b[1;33m=\u001b[0m \u001b[0mframe_bucket_copy\u001b[0m\u001b[1;33m.\u001b[0m\u001b[0mcopy\u001b[0m\u001b[1;33m(\u001b[0m\u001b[1;33m)\u001b[0m\u001b[1;33m\u001b[0m\u001b[1;33m\u001b[0m\u001b[0m\n\u001b[0;32m      2\u001b[0m \u001b[0mframe_bucket_copy\u001b[0m \u001b[1;33m=\u001b[0m  \u001b[0mframe_bucket_copy\u001b[0m\u001b[1;33m[\u001b[0m\u001b[1;36m1\u001b[0m\u001b[1;33m:\u001b[0m\u001b[1;33m]\u001b[0m \u001b[1;33m+\u001b[0m \u001b[0mframe_bucket_copy\u001b[0m\u001b[1;33m[\u001b[0m\u001b[1;36m0\u001b[0m\u001b[1;33m:\u001b[0m\u001b[1;36m1\u001b[0m\u001b[1;33m]\u001b[0m\u001b[1;33m\u001b[0m\u001b[1;33m\u001b[0m\u001b[0m\n\u001b[1;32m----> 3\u001b[1;33m \u001b[0mlove\u001b[0m \u001b[1;33m==\u001b[0m \u001b[0mframe_bucket_copy\u001b[0m\u001b[1;33m\u001b[0m\u001b[1;33m\u001b[0m\u001b[0m\n\u001b[0m",
      "\u001b[1;31mValueError\u001b[0m: The truth value of an array with more than one element is ambiguous. Use a.any() or a.all()"
     ]
    }
   ],
   "source": [
    "love = frame_bucket_copy.copy()\n",
    "frame_bucket_copy =  frame_bucket_copy[1:] + frame_bucket_copy[0:1]\n",
    "love == frame_bucket_copy"
   ]
  },
  {
   "cell_type": "code",
   "execution_count": null,
   "metadata": {},
   "outputs": [],
   "source": [
    "love = [x for x in range(10)]"
   ]
  },
  {
   "cell_type": "code",
   "execution_count": null,
   "metadata": {},
   "outputs": [],
   "source": [
    "love =  love[1:] + [love[0]]\n",
    "love"
   ]
  },
  {
   "cell_type": "code",
   "execution_count": null,
   "metadata": {},
   "outputs": [],
   "source": [
    "for i in range(4):\n",
    "    love =  love[1:] + [love[0]]\n",
    "love"
   ]
  },
  {
   "cell_type": "code",
   "execution_count": null,
   "metadata": {
    "scrolled": true
   },
   "outputs": [],
   "source": [
    "frame_bucket_copy\n",
    "frame_bucket_copy_1 =  frame_bucket_copy[1:] + [frame_bucket_copy[0]]\n",
    "frame_bucket_copy_2 =  frame_bucket_copy_1[1:] + [frame_bucket_copy_1[0]]\n",
    "\n",
    "full_1 = create_full_frame(frame_bucket_copy)\n",
    "full_2 = create_full_frame(frame_bucket_copy_1)\n",
    "full_3 = create_full_frame(frame_bucket_copy_2)\n",
    "\n",
    "fullest = full_1+full_2+full_3\n",
    "\n",
    "play_video(fullest, time = 1000//fps, loops = 100)"
   ]
  },
  {
   "cell_type": "code",
   "execution_count": null,
   "metadata": {},
   "outputs": [],
   "source": [
    "len(frame_bucket_copy_2)"
   ]
  },
  {
   "cell_type": "code",
   "execution_count": null,
   "metadata": {},
   "outputs": [],
   "source": [
    "from copy import deepcopy\n",
    "import copy\n",
    "\n",
    "frame_bucket_copy = frame_bucket[:]\n",
    "death=[] \n",
    "for i in range(16):\n",
    "    death.append(frame_bucket_copy[1])\n",
    "hate = create_full_frame(death)\n",
    "play_video(hate, time = 1000//fps, loops = 1)"
   ]
  },
  {
   "cell_type": "code",
   "execution_count": null,
   "metadata": {},
   "outputs": [],
   "source": [
    "play_video(frame_bucket[3],time = 1000//fps, loops = 1)"
   ]
  },
  {
   "cell_type": "code",
   "execution_count": null,
   "metadata": {},
   "outputs": [],
   "source": [
    "len(hate)"
   ]
  },
  {
   "cell_type": "code",
   "execution_count": null,
   "metadata": {},
   "outputs": [],
   "source": [
    "frame_bucket_copy[1]"
   ]
  },
  {
   "cell_type": "code",
   "execution_count": null,
   "metadata": {},
   "outputs": [],
   "source": [
    "hate = create_full_frame(frame_bucket_copy)\n"
   ]
  },
  {
   "cell_type": "code",
   "execution_count": null,
   "metadata": {},
   "outputs": [],
   "source": [
    "play_video(test,time = 1000//fps, loops = 1)"
   ]
  },
  {
   "cell_type": "code",
   "execution_count": 12,
   "metadata": {},
   "outputs": [],
   "source": [
    "love = [test for i in range(16)]\n",
    "hate = create_full_frame(love)\n",
    "play_video(hate,time = 1000//fps, loops = 100)"
   ]
  },
  {
   "cell_type": "code",
   "execution_count": null,
   "metadata": {},
   "outputs": [],
   "source": []
  }
 ],
 "metadata": {
  "kernelspec": {
   "display_name": "Python 3",
   "language": "python",
   "name": "python3"
  },
  "language_info": {
   "codemirror_mode": {
    "name": "ipython",
    "version": 3
   },
   "file_extension": ".py",
   "mimetype": "text/x-python",
   "name": "python",
   "nbconvert_exporter": "python",
   "pygments_lexer": "ipython3",
   "version": "3.8.2"
  }
 },
 "nbformat": 4,
 "nbformat_minor": 4
}
