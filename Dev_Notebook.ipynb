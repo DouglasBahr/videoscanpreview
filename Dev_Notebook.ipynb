{
 "cells": [
  {
   "cell_type": "code",
   "execution_count": 1,
   "metadata": {},
   "outputs": [],
   "source": [
    "import numpy as np\n",
    "import cv2 as cv\n"
   ]
  },
  {
   "cell_type": "code",
   "execution_count": null,
   "metadata": {},
   "outputs": [],
   "source": []
  },
  {
   "cell_type": "code",
   "execution_count": null,
   "metadata": {},
   "outputs": [],
   "source": []
  },
  {
   "cell_type": "code",
   "execution_count": 13,
   "metadata": {},
   "outputs": [],
   "source": [
    "def play_video(frames,time = 10, loops = 1):\n",
    "    for loop in range(loops):\n",
    "        for frame in frames: \n",
    "            cv.imshow('frame', frame) # show frame on window\n",
    "            if cv.waitKey(time) & 0xFF == ord('q'):\n",
    "                cv.destroyAllWindows()\n",
    "    cv.destroyAllWindows()\n",
    "\n",
    "def video_properties(path, override=False):\n",
    "    video = cv.VideoCapture(path)\n",
    "    total_frames = int(video.get(cv.CAP_PROP_FRAME_COUNT))\n",
    "    width  = int(video.get(3))\n",
    "    height = int(video.get(4))\n",
    "    fps = int(video.get(5))\n",
    "    video.release()\n",
    "    return total_frames,width,height,fps\n",
    "\n",
    "def frames_to_memory(path, width = None, height = None, total_frames = 1):\n",
    "    frames = []\n",
    "    cap = cv.VideoCapture(path) #video_name is the video being called\n",
    "    for index in range(total_frames):\n",
    "        cap.set(1,index); # Where frame_no is the frame you want\n",
    "        ret, frame = cap.read() # Read the frame\n",
    "        \n",
    "        if not ((width == None) or (height == None)):\n",
    "            frame = cv.resize(frame, (width, height), interpolation = cv.INTER_AREA)\n",
    "        frames.append(frame)\n",
    "    cap.release()\n",
    "    return frames\n",
    "\n",
    "def show_single_frame(frames, index = None, time = 1):\n",
    "    if not index:\n",
    "        try:\n",
    "            cv.imshow('frame', frames) # show frame on window\n",
    "        except:\n",
    "            print(\"fuck\")\n",
    "    else:\n",
    "        cv.imshow('frame', frames[index]) # show frame on window\n",
    "    if cv.waitKey(time) & 0xFF == ord('q'):\n",
    "        cv.destroyAllWindows()\n",
    "    cv.destroyAllWindows()\n",
    "\n",
    "    \n",
    "def create_row(bucket):\n",
    "    number_of_frames = len(bucket[0])\n",
    "    buckets_in_row = len(bucket)\n",
    "    \n",
    "    row_frames = []\n",
    "    for frame_index in range(number_of_frames):\n",
    "        \n",
    "        bucket_frames = []\n",
    "        for index in range(buckets_in_row):\n",
    "            bucket_frames.append(bucket[index][frame_index])\n",
    "\n",
    "        row_frames.append(np.concatenate(bucket_frames, axis = 1))\n",
    "    return row_frames\n",
    "    \n",
    "    \n",
    "def create_all_rows(bucket):\n",
    "    all_rows = []\n",
    "    for i in range(4):\n",
    "        all_rows.append(create_row(frame_bucket[i*4: (i+1)*4]))\n",
    "        #print(i*4, \" \", (i+1)*4)\n",
    "    return all_rows\n",
    "    \n",
    "def combine_all_rows(rows):\n",
    "    number_of_frames = len(rows[0])\n",
    "    number_of_rows = len(rows)\n",
    "    \n",
    "    full_frame = []\n",
    "    for frame_index in range(number_of_frames):\n",
    "        \n",
    "        frame_images = []\n",
    "        for index in range(number_of_rows):\n",
    "            frame_images.append(rows[index][frame_index])\n",
    "           \n",
    "        full_frame.append(np.concatenate(frame_images, axis = 0))\n",
    "        \n",
    "    return full_frame\n",
    "\n",
    "def create_full_frame(bucket):\n",
    "    all_rows = create_all_rows(bucket)\n",
    "    full_frame = combine_all_rows(all_rows)\n",
    "        \n",
    "    return full_frame\n",
    "\n",
    "\n",
    "VIDEO_PATH = 'sample_data/sample.avi'\n"
   ]
  },
  {
   "cell_type": "code",
   "execution_count": 37,
   "metadata": {},
   "outputs": [],
   "source": [
    "total_frames,width,height,fps = video_properties(VIDEO_PATH)\n",
    "frames = frames_to_memory(VIDEO_PATH,int(width/3),int(height/3), total_frames = total_frames)"
   ]
  },
  {
   "cell_type": "code",
   "execution_count": 42,
   "metadata": {
    "scrolled": true
   },
   "outputs": [
    {
     "name": "stdout",
     "output_type": "stream",
     "text": [
      "start:  0  finish: , 46\n",
      "start:  46  finish: , 92\n",
      "start:  92  finish: , 138\n",
      "start:  138  finish: , 184\n",
      "start:  184  finish: , 230\n",
      "start:  230  finish: , 276\n",
      "start:  276  finish: , 322\n",
      "start:  322  finish: , 368\n",
      "start:  368  finish: , 414\n",
      "start:  414  finish: , 460\n",
      "start:  460  finish: , 506\n",
      "start:  506  finish: , 552\n",
      "start:  552  finish: , 598\n",
      "start:  598  finish: , 644\n",
      "start:  644  finish: , 690\n",
      "start:  690  finish: , 736\n"
     ]
    }
   ],
   "source": [
    "time = 2\n",
    "frame_per_bucket = int(time*fps)\n",
    "total_buckets =total_frames //frame_per_bucket\n",
    "remainder_frame = total_frames - frame_per_bucket*total_buckets\n",
    "remainder_frame\n",
    "frame_bucket = []\n",
    "for index in range(0, total_buckets):\n",
    "    print('start: ', index*frame_per_bucket, \" finish: ,\", (index+1)*frame_per_bucket )\n",
    "    frame_bucket.append(frames[index*frame_per_bucket:(index+1)*frame_per_bucket])\n",
    "    \n",
    "len(frame_bucket)\n",
    "play_video(frame_bucket[1], time = 10)\n",
    "\n",
    "test = frame_bucket[1].copy()"
   ]
  },
  {
   "cell_type": "code",
   "execution_count": 45,
   "metadata": {},
   "outputs": [
    {
     "data": {
      "text/plain": [
       "16"
      ]
     },
     "execution_count": 45,
     "metadata": {},
     "output_type": "execute_result"
    }
   ],
   "source": [
    "len(frame_bucket)"
   ]
  },
  {
   "cell_type": "code",
   "execution_count": 41,
   "metadata": {},
   "outputs": [
    {
     "ename": "IndexError",
     "evalue": "list index out of range",
     "output_type": "error",
     "traceback": [
      "\u001b[1;31m---------------------------------------------------------------------------\u001b[0m",
      "\u001b[1;31mIndexError\u001b[0m                                Traceback (most recent call last)",
      "\u001b[1;32m<ipython-input-41-8f46712b82a9>\u001b[0m in \u001b[0;36m<module>\u001b[1;34m\u001b[0m\n\u001b[1;32m----> 1\u001b[1;33m \u001b[0mfull\u001b[0m \u001b[1;33m=\u001b[0m \u001b[0mcreate_full_frame\u001b[0m\u001b[1;33m(\u001b[0m\u001b[0mframe_bucket\u001b[0m\u001b[1;33m)\u001b[0m\u001b[1;33m\u001b[0m\u001b[1;33m\u001b[0m\u001b[0m\n\u001b[0m\u001b[0;32m      2\u001b[0m \u001b[0mplay_video\u001b[0m\u001b[1;33m(\u001b[0m\u001b[0mfull\u001b[0m\u001b[1;33m,\u001b[0m \u001b[0mtime\u001b[0m \u001b[1;33m=\u001b[0m \u001b[1;36m1000\u001b[0m\u001b[1;33m//\u001b[0m\u001b[0mfps\u001b[0m\u001b[1;33m,\u001b[0m \u001b[0mloops\u001b[0m \u001b[1;33m=\u001b[0m \u001b[1;36m10\u001b[0m\u001b[1;33m)\u001b[0m\u001b[1;33m\u001b[0m\u001b[1;33m\u001b[0m\u001b[0m\n\u001b[0;32m      3\u001b[0m \u001b[0mframe_bucket_copy\u001b[0m \u001b[1;33m=\u001b[0m \u001b[0mframe_bucket\u001b[0m\u001b[1;33m.\u001b[0m\u001b[0mcopy\u001b[0m\u001b[1;33m(\u001b[0m\u001b[1;33m)\u001b[0m\u001b[1;33m\u001b[0m\u001b[1;33m\u001b[0m\u001b[0m\n",
      "\u001b[1;32m<ipython-input-13-f34e5811f1c5>\u001b[0m in \u001b[0;36mcreate_full_frame\u001b[1;34m(bucket)\u001b[0m\n\u001b[0;32m     80\u001b[0m \u001b[1;33m\u001b[0m\u001b[0m\n\u001b[0;32m     81\u001b[0m \u001b[1;32mdef\u001b[0m \u001b[0mcreate_full_frame\u001b[0m\u001b[1;33m(\u001b[0m\u001b[0mbucket\u001b[0m\u001b[1;33m)\u001b[0m\u001b[1;33m:\u001b[0m\u001b[1;33m\u001b[0m\u001b[1;33m\u001b[0m\u001b[0m\n\u001b[1;32m---> 82\u001b[1;33m     \u001b[0mall_rows\u001b[0m \u001b[1;33m=\u001b[0m \u001b[0mcreate_all_rows\u001b[0m\u001b[1;33m(\u001b[0m\u001b[0mbucket\u001b[0m\u001b[1;33m)\u001b[0m\u001b[1;33m\u001b[0m\u001b[1;33m\u001b[0m\u001b[0m\n\u001b[0m\u001b[0;32m     83\u001b[0m     \u001b[0mfull_frame\u001b[0m \u001b[1;33m=\u001b[0m \u001b[0mcombine_all_rows\u001b[0m\u001b[1;33m(\u001b[0m\u001b[0mall_rows\u001b[0m\u001b[1;33m)\u001b[0m\u001b[1;33m\u001b[0m\u001b[1;33m\u001b[0m\u001b[0m\n\u001b[0;32m     84\u001b[0m \u001b[1;33m\u001b[0m\u001b[0m\n",
      "\u001b[1;32m<ipython-input-13-f34e5811f1c5>\u001b[0m in \u001b[0;36mcreate_all_rows\u001b[1;34m(bucket)\u001b[0m\n\u001b[0;32m     60\u001b[0m     \u001b[0mall_rows\u001b[0m \u001b[1;33m=\u001b[0m \u001b[1;33m[\u001b[0m\u001b[1;33m]\u001b[0m\u001b[1;33m\u001b[0m\u001b[1;33m\u001b[0m\u001b[0m\n\u001b[0;32m     61\u001b[0m     \u001b[1;32mfor\u001b[0m \u001b[0mi\u001b[0m \u001b[1;32min\u001b[0m \u001b[0mrange\u001b[0m\u001b[1;33m(\u001b[0m\u001b[1;36m4\u001b[0m\u001b[1;33m)\u001b[0m\u001b[1;33m:\u001b[0m\u001b[1;33m\u001b[0m\u001b[1;33m\u001b[0m\u001b[0m\n\u001b[1;32m---> 62\u001b[1;33m         \u001b[0mall_rows\u001b[0m\u001b[1;33m.\u001b[0m\u001b[0mappend\u001b[0m\u001b[1;33m(\u001b[0m\u001b[0mcreate_row\u001b[0m\u001b[1;33m(\u001b[0m\u001b[0mframe_bucket\u001b[0m\u001b[1;33m[\u001b[0m\u001b[0mi\u001b[0m\u001b[1;33m*\u001b[0m\u001b[1;36m4\u001b[0m\u001b[1;33m:\u001b[0m \u001b[1;33m(\u001b[0m\u001b[0mi\u001b[0m\u001b[1;33m+\u001b[0m\u001b[1;36m1\u001b[0m\u001b[1;33m)\u001b[0m\u001b[1;33m*\u001b[0m\u001b[1;36m4\u001b[0m\u001b[1;33m]\u001b[0m\u001b[1;33m)\u001b[0m\u001b[1;33m)\u001b[0m\u001b[1;33m\u001b[0m\u001b[1;33m\u001b[0m\u001b[0m\n\u001b[0m\u001b[0;32m     63\u001b[0m         \u001b[1;31m#print(i*4, \" \", (i+1)*4)\u001b[0m\u001b[1;33m\u001b[0m\u001b[1;33m\u001b[0m\u001b[1;33m\u001b[0m\u001b[0m\n\u001b[0;32m     64\u001b[0m     \u001b[1;32mreturn\u001b[0m \u001b[0mall_rows\u001b[0m\u001b[1;33m\u001b[0m\u001b[1;33m\u001b[0m\u001b[0m\n",
      "\u001b[1;32m<ipython-input-13-f34e5811f1c5>\u001b[0m in \u001b[0;36mcreate_row\u001b[1;34m(bucket)\u001b[0m\n\u001b[0;32m     43\u001b[0m \u001b[1;33m\u001b[0m\u001b[0m\n\u001b[0;32m     44\u001b[0m \u001b[1;32mdef\u001b[0m \u001b[0mcreate_row\u001b[0m\u001b[1;33m(\u001b[0m\u001b[0mbucket\u001b[0m\u001b[1;33m)\u001b[0m\u001b[1;33m:\u001b[0m\u001b[1;33m\u001b[0m\u001b[1;33m\u001b[0m\u001b[0m\n\u001b[1;32m---> 45\u001b[1;33m     \u001b[0mnumber_of_frames\u001b[0m \u001b[1;33m=\u001b[0m \u001b[0mlen\u001b[0m\u001b[1;33m(\u001b[0m\u001b[0mbucket\u001b[0m\u001b[1;33m[\u001b[0m\u001b[1;36m0\u001b[0m\u001b[1;33m]\u001b[0m\u001b[1;33m)\u001b[0m\u001b[1;33m\u001b[0m\u001b[1;33m\u001b[0m\u001b[0m\n\u001b[0m\u001b[0;32m     46\u001b[0m     \u001b[0mbuckets_in_row\u001b[0m \u001b[1;33m=\u001b[0m \u001b[0mlen\u001b[0m\u001b[1;33m(\u001b[0m\u001b[0mbucket\u001b[0m\u001b[1;33m)\u001b[0m\u001b[1;33m\u001b[0m\u001b[1;33m\u001b[0m\u001b[0m\n\u001b[0;32m     47\u001b[0m \u001b[1;33m\u001b[0m\u001b[0m\n",
      "\u001b[1;31mIndexError\u001b[0m: list index out of range"
     ]
    }
   ],
   "source": [
    "full = create_full_frame(frame_bucket)\n",
    "play_video(full, time = 1000//fps, loops = 10)\n",
    "frame_bucket_copy = frame_bucket.copy()"
   ]
  },
  {
   "cell_type": "code",
   "execution_count": 33,
   "metadata": {},
   "outputs": [],
   "source": [
    "fullest = create_full_frame(frame_bucket_copy)\n",
    "for i in range(3):\n",
    "\n",
    "    frame_bucket_copy =  frame_bucket_copy[1:] + [frame_bucket_copy[0]]\n",
    "    fullest += create_full_frame(frame_bucket_copy)\n",
    "play_video(fullest, time = 1000//fps, loops = 1)"
   ]
  },
  {
   "cell_type": "code",
   "execution_count": null,
   "metadata": {},
   "outputs": [],
   "source": []
  },
  {
   "cell_type": "code",
   "execution_count": null,
   "metadata": {},
   "outputs": [],
   "source": []
  },
  {
   "cell_type": "code",
   "execution_count": null,
   "metadata": {},
   "outputs": [],
   "source": []
  },
  {
   "cell_type": "code",
   "execution_count": null,
   "metadata": {},
   "outputs": [],
   "source": []
  },
  {
   "cell_type": "code",
   "execution_count": 26,
   "metadata": {
    "scrolled": true
   },
   "outputs": [],
   "source": [
    "frame_bucket_copy\n",
    "frame_bucket_copy_1 =  frame_bucket_copy[1:] + [frame_bucket_copy[0]]\n",
    "frame_bucket_copy_2 =  frame_bucket_copy_1[1:] + [frame_bucket_copy_1[0]]\n",
    "\n",
    "full_1 = create_full_frame(frame_bucket_copy)\n",
    "full_2 = create_full_frame(frame_bucket_copy_1)\n",
    "full_3 = create_full_frame(frame_bucket_copy_2)\n",
    "\n",
    "fullest = full_1+full_2+full_3\n",
    "\n",
    "play_video(fullest, time = 1000//fps, loops = 100)"
   ]
  },
  {
   "cell_type": "code",
   "execution_count": 19,
   "metadata": {},
   "outputs": [
    {
     "data": {
      "text/plain": [
       "68"
      ]
     },
     "execution_count": 19,
     "metadata": {},
     "output_type": "execute_result"
    }
   ],
   "source": [
    "len(frame_bucket_copy_2)"
   ]
  },
  {
   "cell_type": "code",
   "execution_count": 22,
   "metadata": {},
   "outputs": [],
   "source": [
    "from copy import deepcopy\n",
    "import copy\n",
    "\n",
    "frame_bucket_copy = frame_bucket[:]\n",
    "death=[] \n",
    "for i in range(16):\n",
    "    death.append(frame_bucket_copy[1])\n",
    "hate = create_full_frame(death)\n",
    "play_video(hate, time = 1000//fps, loops = 1)"
   ]
  },
  {
   "cell_type": "code",
   "execution_count": 24,
   "metadata": {},
   "outputs": [],
   "source": [
    "play_video(frame_bucket[3],time = 1000//fps, loops = 1)"
   ]
  },
  {
   "cell_type": "code",
   "execution_count": null,
   "metadata": {},
   "outputs": [],
   "source": [
    "len(hate)"
   ]
  },
  {
   "cell_type": "code",
   "execution_count": null,
   "metadata": {},
   "outputs": [],
   "source": [
    "frame_bucket_copy[1]"
   ]
  },
  {
   "cell_type": "code",
   "execution_count": null,
   "metadata": {},
   "outputs": [],
   "source": [
    "hate = create_full_frame(frame_bucket_copy)\n"
   ]
  },
  {
   "cell_type": "code",
   "execution_count": null,
   "metadata": {},
   "outputs": [],
   "source": [
    "play_video(test,time = 1000//fps, loops = 1)"
   ]
  },
  {
   "cell_type": "code",
   "execution_count": 12,
   "metadata": {},
   "outputs": [],
   "source": [
    "love = [test for i in range(16)]\n",
    "hate = create_full_frame(love)\n",
    "play_video(hate,time = 1000//fps, loops = 100)"
   ]
  },
  {
   "cell_type": "code",
   "execution_count": null,
   "metadata": {},
   "outputs": [],
   "source": []
  }
 ],
 "metadata": {
  "kernelspec": {
   "display_name": "Python 3",
   "language": "python",
   "name": "python3"
  },
  "language_info": {
   "codemirror_mode": {
    "name": "ipython",
    "version": 3
   },
   "file_extension": ".py",
   "mimetype": "text/x-python",
   "name": "python",
   "nbconvert_exporter": "python",
   "pygments_lexer": "ipython3",
   "version": "3.8.2"
  }
 },
 "nbformat": 4,
 "nbformat_minor": 4
}
