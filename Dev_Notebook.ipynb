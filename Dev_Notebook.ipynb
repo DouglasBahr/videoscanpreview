{
 "cells": [
  {
   "cell_type": "code",
   "execution_count": 1,
   "metadata": {},
   "outputs": [],
   "source": [
    "import numpy as np\n",
    "import cv2 as cv\n"
   ]
  },
  {
   "cell_type": "code",
   "execution_count": null,
   "metadata": {},
   "outputs": [],
   "source": []
  },
  {
   "cell_type": "code",
   "execution_count": null,
   "metadata": {},
   "outputs": [],
   "source": []
  },
  {
   "cell_type": "code",
   "execution_count": 63,
   "metadata": {},
   "outputs": [],
   "source": [
    "def play_video(frames,time = 10, loops = 1):\n",
    "    for loop in range(loops):\n",
    "        for frame in frames:\n",
    "            cv.imshow('frame', frame) # show frame on window\n",
    "            if cv.waitKey(time) & 0xFF == ord('q'):\n",
    "                cv.destroyAllWindows()\n",
    "                break\n",
    "    cv.destroyAllWindows()\n",
    "\n",
    "def video_properties(path, override=False):\n",
    "    video = cv.VideoCapture(path)\n",
    "    total_frames = int(video.get(cv.CAP_PROP_FRAME_COUNT))\n",
    "    width  = int(video.get(3))\n",
    "    height = int(video.get(4))\n",
    "    fps = int(video.get(5))\n",
    "    video.release()\n",
    "    return total_frames,width,height,fps\n",
    "\n",
    "def frames_to_memory(path, width = None, height = None, total_frames = 1):\n",
    "    frames = []\n",
    "    cap = cv.VideoCapture(path) #video_name is the video being called\n",
    "    for index in range(total_frames):\n",
    "        cap.set(1,index); # Where frame_no is the frame you want\n",
    "        ret, frame = cap.read() # Read the frame\n",
    "        \n",
    "        if not ((width == None) or (height == None)):\n",
    "            frame = cv.resize(frame, (width, height), interpolation = cv.INTER_AREA)\n",
    "        frames.append(frame)\n",
    "    cap.release()\n",
    "    return frames\n",
    "\n",
    "def create_bucket(frames, total_frames, fps, time = 2):\n",
    "    time = 2\n",
    "    frame_per_bucket = int(time*fps)\n",
    "    total_buckets =total_frames //frame_per_bucket\n",
    "    remainder_frame = total_frames - frame_per_bucket*total_buckets\n",
    "    remainder_frame\n",
    "    frame_bucket = []\n",
    "    for index in range(0, total_buckets):\n",
    "        print('start: ', index*frame_per_bucket, \" finish: ,\", (index+1)*frame_per_bucket )\n",
    "        frame_bucket.append(frames[index*frame_per_bucket:(index+1)*frame_per_bucket])\n",
    "\n",
    "    return frame_bucket\n",
    "\n",
    "def show_single_frame(frames, index = None, time = 1):\n",
    "    if not index:\n",
    "        try:\n",
    "            cv.imshow('frame', frames) # show frame on window\n",
    "        except:\n",
    "            print(\"fuck\")\n",
    "    else:\n",
    "        cv.imshow('frame', frames[index]) # show frame on window\n",
    "    if cv.waitKey(time) & 0xFF == ord('q'):\n",
    "        cv.destroyAllWindows()\n",
    "    cv.destroyAllWindows()\n",
    "\n",
    "    \n",
    "def create_row(bucket):\n",
    "    number_of_frames = len(bucket[0])\n",
    "    buckets_in_row = len(bucket)\n",
    "    \n",
    "    row_frames = []\n",
    "    for frame_index in range(number_of_frames):\n",
    "        \n",
    "        bucket_frames = []\n",
    "        for index in range(buckets_in_row):\n",
    "            bucket_frames.append(bucket[index][frame_index])\n",
    "\n",
    "        row_frames.append(np.concatenate(bucket_frames, axis = 1))\n",
    "    return row_frames\n",
    "    \n",
    "    \n",
    "def create_all_rows(bucket):\n",
    "    all_rows = []\n",
    "    for i in range(4):\n",
    "        all_rows.append(create_row(bucket[i*4: (i+1)*4]))\n",
    "        #print(i*4, \" \", (i+1)*4)\n",
    "    return all_rows\n",
    "    \n",
    "def combine_all_rows(rows):\n",
    "    number_of_frames = len(rows[0])\n",
    "    number_of_rows = len(rows)\n",
    "    \n",
    "    full_frame = []\n",
    "    for frame_index in range(number_of_frames):\n",
    "        \n",
    "        frame_images = []\n",
    "        for index in range(number_of_rows):\n",
    "            frame_images.append(rows[index][frame_index])\n",
    "           \n",
    "        full_frame.append(np.concatenate(frame_images, axis = 0))\n",
    "        \n",
    "    return full_frame\n",
    "\n",
    "def create_full_frame(bucket):\n",
    "    all_rows = create_all_rows(bucket)\n",
    "    full_frame = combine_all_rows(all_rows)\n",
    "        \n",
    "    return full_frame\n",
    "\n",
    "def video_length(frame_bucket, bucket_switch = 1):\n",
    "    full_frames = create_full_frame(frame_bucket)\n",
    "    for i in range(bucket_switch):\n",
    "        frame_bucket =  frame_bucket[1:] + [frame_bucket[0]]\n",
    "        full_frames += create_full_frame(frame_bucket)\n",
    "    return full_frames\n",
    "\n",
    "VIDEO_PATH = 'sample_data/sample.avi'\n"
   ]
  },
  {
   "cell_type": "code",
   "execution_count": 15,
   "metadata": {},
   "outputs": [],
   "source": [
    "total_frames,width,height,fps = video_properties(VIDEO_PATH)\n",
    "frames = frames_to_memory(VIDEO_PATH,int(width/3),int(height/3), total_frames = total_frames)"
   ]
  },
  {
   "cell_type": "code",
   "execution_count": 104,
   "metadata": {
    "scrolled": true
   },
   "outputs": [
    {
     "name": "stdout",
     "output_type": "stream",
     "text": [
      "start:  0  finish: , 46\n",
      "start:  46  finish: , 92\n",
      "start:  92  finish: , 138\n",
      "start:  138  finish: , 184\n",
      "start:  184  finish: , 230\n",
      "start:  230  finish: , 276\n",
      "start:  276  finish: , 322\n",
      "start:  322  finish: , 368\n",
      "start:  368  finish: , 414\n",
      "start:  414  finish: , 460\n",
      "start:  460  finish: , 506\n",
      "start:  506  finish: , 552\n",
      "start:  552  finish: , 598\n",
      "start:  598  finish: , 644\n",
      "start:  644  finish: , 690\n",
      "start:  690  finish: , 736\n"
     ]
    }
   ],
   "source": [
    "time = 2\n",
    "frame_bucket = create_bucket(frames, total_frames, fps, time =time)\n",
    "frame_bucket_copy = frame_bucket.copy()\n",
    "full = video_length(frame_bucket_copy, bucket_switch = 0)\n",
    "play_video(full, time = 1000//fps, loops = 10)"
   ]
  },
  {
   "cell_type": "code",
   "execution_count": 115,
   "metadata": {},
   "outputs": [
    {
     "name": "stdout",
     "output_type": "stream",
     "text": [
      "0:\n",
      " (532, 960, 3)\n"
     ]
    }
   ],
   "source": [
    "# this is the shifting cell\n",
    "fuller = []\n",
    "fuller.append(fuller.append(full[0][:]))\n",
    "del fuller[1]\n",
    "print('0:\\n',full[0][:].shape)\n",
    "frame_in_bucket = 46\n",
    "for frame_index in range(1,len(full)):\n",
    "    frame_reset = frame_index%frame_in_bucket\n",
    "    \n",
    "    pixel_shift = int((frame_reset*(width/3/frame_in_bucket))//1)\n",
    "    added_frame = full[frame_reset][:,int(width/3)-pixel_shift:int(width/3),: ]\n",
    "    major_frame = full[frame_reset][:,:-pixel_shift: ]\n",
    "    shift_image = np.concatenate([added_frame,major_frame], axis=1)\n",
    "    fuller.append(shift_image)\n",
    "\n",
    "play_video(fuller, time = 1000//fps, loops = 3)\n"
   ]
  },
  {
   "cell_type": "code",
   "execution_count": 94,
   "metadata": {},
   "outputs": [],
   "source": []
  },
  {
   "cell_type": "code",
   "execution_count": 79,
   "metadata": {},
   "outputs": [
    {
     "data": {
      "text/plain": [
       "5"
      ]
     },
     "execution_count": 79,
     "metadata": {},
     "output_type": "execute_result"
    }
   ],
   "source": [
    "int(width/3/frame_in_bucket//1)"
   ]
  },
  {
   "cell_type": "code",
   "execution_count": 35,
   "metadata": {},
   "outputs": [],
   "source": []
  },
  {
   "cell_type": "code",
   "execution_count": 8,
   "metadata": {},
   "outputs": [],
   "source": [
    "temp = full[0][:,200:, :]\n",
    "while(True):\n",
    "    cv.imshow('frame',temp)\n",
    "    if cv.waitKey(0) & 0xFF == ord('q'):\n",
    "        break\n",
    "cv.destroyAllWindows()"
   ]
  },
  {
   "cell_type": "code",
   "execution_count": 6,
   "metadata": {},
   "outputs": [
    {
     "data": {
      "text/plain": [
       "(532, 960, 3)"
      ]
     },
     "execution_count": 6,
     "metadata": {},
     "output_type": "execute_result"
    }
   ],
   "source": [
    "full[0].shape"
   ]
  },
  {
   "cell_type": "code",
   "execution_count": 84,
   "metadata": {},
   "outputs": [
    {
     "data": {
      "text/plain": [
       "5.0"
      ]
     },
     "execution_count": 84,
     "metadata": {},
     "output_type": "execute_result"
    }
   ],
   "source": [
    "width/3/frame_in_bucket//1"
   ]
  },
  {
   "cell_type": "code",
   "execution_count": 110,
   "metadata": {},
   "outputs": [
    {
     "data": {
      "text/plain": [
       "240.0"
      ]
     },
     "execution_count": 110,
     "metadata": {},
     "output_type": "execute_result"
    }
   ],
   "source": [
    "int(width/3)"
   ]
  },
  {
   "cell_type": "code",
   "execution_count": null,
   "metadata": {},
   "outputs": [],
   "source": [
    "np.concatenate(bucket_frames, axis = 1)"
   ]
  },
  {
   "cell_type": "code",
   "execution_count": 75,
   "metadata": {},
   "outputs": [
    {
     "data": {
      "text/plain": [
       "240"
      ]
     },
     "execution_count": 75,
     "metadata": {},
     "output_type": "execute_result"
    }
   ],
   "source": [
    "width//3"
   ]
  },
  {
   "cell_type": "code",
   "execution_count": 44,
   "metadata": {},
   "outputs": [
    {
     "data": {
      "text/plain": [
       "240.0"
      ]
     },
     "execution_count": 44,
     "metadata": {},
     "output_type": "execute_result"
    }
   ],
   "source": [
    "width/3"
   ]
  },
  {
   "cell_type": "code",
   "execution_count": null,
   "metadata": {},
   "outputs": [],
   "source": []
  }
 ],
 "metadata": {
  "kernelspec": {
   "display_name": "Python 3",
   "language": "python",
   "name": "python3"
  },
  "language_info": {
   "codemirror_mode": {
    "name": "ipython",
    "version": 3
   },
   "file_extension": ".py",
   "mimetype": "text/x-python",
   "name": "python",
   "nbconvert_exporter": "python",
   "pygments_lexer": "ipython3",
   "version": "3.8.2"
  }
 },
 "nbformat": 4,
 "nbformat_minor": 4
}
